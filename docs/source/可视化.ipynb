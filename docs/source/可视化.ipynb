{
 "cells": [
  {
   "cell_type": "markdown",
   "metadata": {
    "id": "B782CF2F587F400DAD081663801E7A2C",
    "jupyter": {},
    "mdEditEnable": false,
    "notebookId": "60a4c6e606b942001799b766",
    "slideshow": {
     "slide_type": "slide"
    },
    "tags": []
   },
   "source": [
    "**🐳从入门到进阶，跟我学成为可视化大神，整理了和鲸社区的优秀可视化项目，长期更新，欢迎点赞、收藏、fork，➕关注小鲸**\n",
    "* 点【☆】收藏项目：收藏后在「首页-我的收藏」可以找到项目，并且看到最新的项目内容哦\n",
    "\n",
    "![Image Name](https://cdn.kesci.com/upload/image/qtgdkij0rs.png?imageView2/0/w/960/h/960)\n"
   ]
  },
  {
   "cell_type": "markdown",
   "metadata": {
    "id": "8100059458474CC7BB300837C9B65A27",
    "jupyter": {},
    "mdEditEnable": true,
    "notebookId": "60a4c6e606b942001799b766",
    "slideshow": {
     "slide_type": "slide"
    },
    "tags": []
   },
   "source": [
    "\n",
    "# matplotlib\n",
    "\n",
    "Matplotlib官方介绍[点击🔗](https://matplotlib.org)\n",
    "\n",
    "![Image Name](https://cdn.kesci.com/upload/image/qtcl739vxg.png)\n",
    "\n",
    "Matplotlib 是一个Python的 2D绘图库。通过 Matplotlib，开发者可以仅需要几行代码，便可以生成绘图，直方图，功率谱，条形图，错误图，散点图等。\n",
    "\n",
    "通过学习Matplotlib，可让数据可视化，更直观的真实给用户。使数据更加客观、更具有说服力。 Matplotlib是Python的库，又是开发中常用的库。 matplotlib入门\n",
    "\n",
    "## matplotlib入门\n",
    "[从零开始学Python【1】matplotlib(条形图)](https://www.heywhale.com/mw/project/59ed8d7418ec724555a9b4c0)\n",
    "\n",
    "[从零开始学Python【2】matplotlib(饼图)](https://www.kesci.com/home/project/59f6de30c5f3f511952c1211)\n",
    "\n",
    "[从零开始学Python【3】matplotlib(箱线图)](https://www.heywhale.com/mw/project/59f6ec6dc5f3f511952c228e)\n",
    "\n",
    "[从零开始学Python【4】matplotlib(直方图) ](https://www.kesci.com/home/project/59f6f21bc5f3f511952c2966)\n",
    "\n",
    "[从零开始学Python【5】matplotlib(折线图) ]( https://www.heywhale.com/mw/project/59f6f45ac5f3f511952c2bf8 )\n",
    "\n",
    "[从零开始学Python【7】matplotlib(雷达图)](https://www.heywhale.com/mw/project/59f6f88fc5f3f511952c30c9)\n",
    "\n",
    "[Matplotlib绘图的常见问题汇总](https://www.heywhale.com/mw/project/61fa2be88da0860017b07b50)\n",
    "\n",
    "## matplotlib进阶\n",
    "[Python也可以做图表：Matplotlib技能详解](https://www.heywhale.com/mw/project/5cf7a5a8e727f8002c1925c8)\n",
    "\n",
    "[Matplotlib 最具价值的50个可视化项目](https://www.heywhale.com/mw/project/5f4b3f146476cf0036f7e51e)\n",
    "\n",
    "[50题Matplotlib从入门到精通](https://www.heywhale.com/mw/project/5de9f0a0953ca8002c95d2a9)\n",
    "\n"
   ]
  },
  {
   "cell_type": "markdown",
   "metadata": {
    "id": "D355D23A927C43E88381FBFBFF469BE8",
    "jupyter": {},
    "mdEditEnable": false,
    "notebookId": "60a4c6e606b942001799b766",
    "slideshow": {
     "slide_type": "slide"
    },
    "tags": []
   },
   "source": [
    "# Seaborn\n",
    "\n",
    "Seaborn官方介绍[点击🔗](https://seaborn.pydata.org)\n",
    "\n",
    "![Image Name](https://cdn.kesci.com/upload/image/qtck8j3gmb.png?imageView2/0/w/960/h/960)\n",
    "\n",
    "Seaborn是基于matplotlib的图形可视化python包。它提供了一种高度交互式界面，便于用户能够做出各种有吸引力的统计图表。\n",
    "\n",
    "Seaborn是在matplotlib的基础上进行了更高级的API封装，从而使得作图更加容易，在大多数情况下使用seaborn能做出很具有吸引力的图，而使用matplotlib就能制作具有更多特色的图。应该把Seaborn视为matplotlib的补充，而不是替代物。同时它能高度兼容numpy与pandas数据结构以及scipy与statsmodels等统计模式。\n",
    "\n",
    "## Seaborn入门\n",
    "[seaborn可视化学习之 categorial visualization](https://www.heywhale.com/mw/project/59c3851c2110010662398bfc)\n",
    "\n",
    "[seaborn可视化学习之distribution visualization](https://www.heywhale.com/mw/project/59c8b06421100106623db531)\n",
    "\n",
    "[seaborn可视化之time series & regression & heatmap](https://www.heywhale.com/mw/project/59c9e95d21100106623ecf58)\n",
    "\n",
    "[Python数据可视化方法之Seaborn](https://www.heywhale.com/mw/project/5ddd2915ca27f8002c4a46cb)"
   ]
  },
  {
   "cell_type": "markdown",
   "metadata": {
    "id": "03DBFB60AFB34128AEB7E6545566BF56",
    "jupyter": {},
    "mdEditEnable": false,
    "notebookId": "60a4c6e606b942001799b766",
    "slideshow": {
     "slide_type": "slide"
    },
    "tags": []
   },
   "source": [
    "# Plotly\n",
    "Plotly官方介绍[点击🔗](https://plotly.com/python/)\n",
    "\n",
    "![Image Name](https://cdn.kesci.com/upload/image/qtck3fpe7k.png)\n",
    "\n",
    "Plotly的Python图形库可生成交互式的，具有出版质量的图形。有关如何制作折线图，散点图，面积图，条形图，误差线，箱形图，直方图，热图，子图，多轴图，极坐标图和气泡图的示例。\n",
    "\n",
    "## Plotly入门\n",
    "[Plotly绘图指令速查 - python](https://www.heywhale.com/mw/project/5dcb8191413f87002cc37012)\n",
    "\n",
    "[plotly教程](https://www.heywhale.com/mw/project/5ed49ab6946a0e002cb60d76)\n",
    "\n",
    "[Plotly绘图指令速查 - python](https://www.heywhale.com/mw/project/5dcb8191413f87002cc37012)\n",
    "\n",
    "[plotly那些事儿(1)](https://www.heywhale.com/mw/project/5ac33ae88bda591534b1ee0e)\n",
    "\n",
    "[plotly那些事儿(2)](https://www.heywhale.com/mw/5ae170d70cda5d46879e5e7c)\n",
    "\n",
    "[plotly那些事儿(3)](https://www.heywhale.com/mw/project/5ae28ed60cda5d46879ef7db)\n",
    "\n",
    "[plotly那些事儿(4)](https://www.heywhale.com/mw/project/5ae3eeb20739c42faa1d138a)\n",
    "\n",
    "[plotly那些事儿(5)](https://www.heywhale.com/mw/project/5ae5693c0739c42faa1d872f)"
   ]
  },
  {
   "cell_type": "markdown",
   "metadata": {
    "id": "345727851A9E479280A0DE2D4DAF3B20",
    "jupyter": {},
    "mdEditEnable": false,
    "notebookId": "60a4c6e606b942001799b766",
    "slideshow": {
     "slide_type": "slide"
    },
    "tags": []
   },
   "source": [
    "# Bokeh\n",
    "\n",
    "**Bokeh官方介绍**[点击🔗](https://bokeh.org/)\n",
    "![Image Name](https://cdn.kesci.com/upload/image/qtclcewq9a.png)\n",
    "\n",
    "Bokeh (Bokeh.js) 是一个 Python 交互式可视化库，支持现代化 Web 浏览器，提供非常完美的展示功能。\n",
    "\n",
    "Bokeh 的目标是使用 D3.js 样式提供优雅，简洁新颖的图形化风格，同时提供大型数据集的高性能交互功能。\n",
    "\n",
    "Boken 可以快速的创建交互式的绘图，仪表盘和数据应用。\n",
    "\n",
    "\n",
    "\n",
    "[Bokeh教程学习](https://www.heywhale.com/mw/project/59dd8cbd77da7a4f41ce3299)\n",
    "[Bokeh 5分钟速览 ](https://www.heywhale.com/mw/project/5a9e00ee2e720b02c5c22856)"
   ]
  },
  {
   "cell_type": "markdown",
   "metadata": {
    "collapsed": false,
    "id": "BBFD0B1857D84F3CB840D8515E4F14AF",
    "jupyter": {
     "outputs_hidden": false
    },
    "mdEditEnable": false,
    "notebookId": "60a4c6e606b942001799b766",
    "scrolled": true,
    "slideshow": {
     "slide_type": "slide"
    },
    "tags": []
   },
   "source": [
    "# ggplot2\n",
    "\n",
    "**ggplot2官方介绍**[点击🔗](https://www.math.pku.edu.cn/teachers/lidf/docs/Rbook/html/_Rbook/ggplot2.html)\n",
    "![Image Name](https://cdn.kesci.com/upload/image/qtcnalp7px.png)\n",
    "\n",
    "ggplot2是R语言最为强大的作图软件包，强于其自成一派的数据可视化理念。当熟悉了ggplot2的基本套路后，数据可视化工作将变得非常轻松而有条理。\n",
    "\n",
    "它实现了“图形的语法”， 将一个作图任务分解为若干个子任务， 只要完成各个子任务就可以完成作图。 在作常用的图形时， 只需要两个步骤： 首先将图形所展现的数据输入到ggplot()函数中， 然后调用某个geom_xxx()函数， 指定图形类型，如散点图、曲线图、盒形图等。\n",
    "\n",
    "\n",
    "[R语言ggplot2绘图全指南 ](https://www.heywhale.com/mw/project/6030be93891f960015d1e83d)\n"
   ]
  },
  {
   "cell_type": "markdown",
   "metadata": {
    "id": "FFECD98F1613498581EE2D2A5F4CF12C",
    "jupyter": {},
    "mdEditEnable": true,
    "notebookId": "60a4c6e606b942001799b766",
    "slideshow": {
     "slide_type": "slide"
    },
    "tags": []
   },
   "source": [
    "# 气象数据可视化\n",
    "\n",
    "# Cartopy \n",
    "**Cartopy官方介绍**[点击🔗](https://scitools.org.uk/cartopy/docs/latest/l)\n",
    "\n",
    "![Image Name](https://cdn.kesci.com/upload/image/qteexpvwxn.png?imageView2/0/w/960/h/960)\n",
    "Cartopy是一个用于地理空间数据处理的Python包，用于生成地图和其他地理空间数据分析。\n",
    "\n",
    "Cartopy利用了强大的PROJ.4,NumPy和Shapely库，并包括一个构建在Matplotlib之上的编程接口，用于创建发布质量地图。\n",
    "\n",
    "Cartopy的主要特征是面向对象的投影定义，以及在这些投影之间变换点、线、向量、多边形和图像的能力。\n",
    "\n",
    "[气象数据可视化库-Cartopy官网例程大全（中文翻译版） ](https://www.heywhale.com/mw/project/5f1a4df794d484002d2db14a)\n",
    "\n",
    "[Cartopy绘图 | 中国地图最正确的使用方式](https://www.heywhale.com/mw/project/5f3c95a3af3980002cbf560b)\n",
    "\n",
    "[Cartopy 调用天地图在线服务](https://www.heywhale.com/mw/project/5f52eb09c85f1c0031b3579b)\n",
    "\n",
    "[Cartopy-绘制不同投影的地图 ](https://www.heywhale.com/mw/project/605d2e48474ded0015711915)\n",
    "\n",
    "\n",
    "[Cartopy叠加自定义地图](https://www.heywhale.com/mw/project/620c641868364e0017a131d1)"
   ]
  },
  {
   "cell_type": "markdown",
   "metadata": {
    "collapsed": true,
    "id": "9B5855A1A13A497E82CFD63A20B317F3",
    "jupyter": {
     "outputs_hidden": true
    },
    "mdEditEnable": false,
    "notebookId": "60a4c6e606b942001799b766",
    "scrolled": false,
    "slideshow": {
     "slide_type": "slide"
    },
    "tags": []
   },
   "source": [
    "# Folium\n",
    "**Folium官方介绍**[点击🔗](http://python-visualization.github.io/folium/)\n",
    "\n",
    "![Image Name](https://cdn.kesci.com/upload/image/qteeemq315.png?imageView2/0/w/960/h/960)\n",
    "\n",
    "Folium是一个基于leaflet.js的Python地图库，其中，Leaflet是一个非常轻的前端地图可视化库。即可以使用Python语言调用Leaflet的地图可视化能力。它不单单可以在地图上展示数据的分布图，还可以使用Vincent/Vega在地图上加以标记。Folium可以让你用Python强大生态系统来处理数据，然后用Leaflet地图来展示。\n",
    "\n",
    "Folium中有许多来自OpenStreetMap、MapQuest Open、MapQuestOpen Aerial、Mapbox和Stamen的内建地图元件，而且支持使用Mapbox或Cloudmade的API密钥来定制个性化的地图元件。Folium支持GeoJSON和TopoJSON两种文件格式的叠加，也可以将数据连接到这两种文件格式的叠加层，最后可使用color-brewer配色方案创建分布图\n",
    "\n",
    "[可视化地图folium库使用示例]( https://www.heywhale.com/mw/project/5e48c87317aec8002dc6b373)\n"
   ]
  },
  {
   "cell_type": "markdown",
   "metadata": {
    "id": "2A311C7C10CF44169684DFE0654A3F3B",
    "jupyter": {},
    "mdEditEnable": false,
    "notebookId": "60a4c6e606b942001799b766",
    "slideshow": {
     "slide_type": "slide"
    },
    "tags": []
   },
   "source": [
    "# 可视化训练营长期循环开班\n",
    "![Image Name](https://cdn.kesci.com/upload/image/rchd0fvxx1.png?imageView2/0/w/960/h/960)\n",
    "## 和鲸训练营·数据可视化基础\n",
    "\n",
    "\n",
    "\n",
    "\n",
    "Task1: Matplotlib—快速开始\n",
    "Tsk2: Matplotlib—图表元素\n",
    "Task3: Matplotlib—复杂场景\n",
    "Task4: Seaborn—快速开始\n",
    "Task5: Seaborn—基本图表\n",
    "Task6: Seaborn—组合图表\n",
    "\n",
    "\n",
    "\n",
    "\n",
    "-------------------------------\n",
    "\n",
    "![Image Name](https://cdn.kesci.com/upload/image/rchd3tpn48.jpg?imageView2/0/w/960/h/960)\n",
    "## 和鲸训练营·商业数据可视化\n",
    " \n",
    "Task1: Pyecharts基础——图表篇\n",
    "Task2: Pyecharts基础——配置篇\n",
    "Task3: Pyecharts高阶使用\n",
    "Task4: 星巴克门店分布\n",
    "Task5: 黑色星期五\n",
    "Task6: 链家深圳二手房\n",
    "Task7: 大作业-数据分析师招聘\n",
    "\n",
    "\n",
    "\n"
   ]
  },
  {
   "cell_type": "markdown",
   "metadata": {
    "id": "197AE783E9E748E98A7F5E6A7EF84F19",
    "jupyter": {},
    "mdEditEnable": false,
    "notebookId": "60a4c6e606b942001799b766",
    "slideshow": {
     "slide_type": "slide"
    },
    "tags": []
   },
   "source": [
    "# 未完～\n",
    "**持续更新 欢迎 点赞👍、收藏⭐、Fork、关注**\n",
    "* 点赞👍：点赞给小鲸持续更新的动力\n",
    "* 收藏⭐️：收藏后你能够看到项目的最新更新\n",
    "* 关注👀：关注小鲸第一时间接收到社区动态哦"
   ]
  },
  {
   "cell_type": "code",
   "execution_count": null,
   "metadata": {
    "id": "162545297E9F4B008560BAB7B6C49BDF",
    "jupyter": {},
    "notebookId": "60a4c6e606b942001799b766",
    "slideshow": {
     "slide_type": "slide"
    },
    "tags": []
   },
   "outputs": [],
   "source": []
  }
 ],
 "metadata": {
  "kernelspec": {
   "display_name": "Python 3 (ipykernel)",
   "language": "python",
   "name": "python3"
  },
  "language_info": {
   "codemirror_mode": {
    "name": "ipython",
    "version": 3
   },
   "file_extension": ".py",
   "mimetype": "text/x-python",
   "name": "python",
   "nbconvert_exporter": "python",
   "pygments_lexer": "ipython3",
   "version": "3.10.15"
  },
  "widgets": {
   "application/vnd.jupyter.widget-state+json": {
    "state": {},
    "version_major": 2,
    "version_minor": 0
   }
  }
 },
 "nbformat": 4,
 "nbformat_minor": 4
}
