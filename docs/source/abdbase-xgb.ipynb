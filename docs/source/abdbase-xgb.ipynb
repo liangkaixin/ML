{
 "cells": [
  {
   "cell_type": "markdown",
   "metadata": {},
   "source": [
    "# <p style=\"background-color:black; font-family:'Pacifico', cursive; color:yellow; font-size:140%; text-align:center; border: 2px solid black; border-radius:15px; padding: 10px; box-shadow: 5px 5px 20px rgba(0, 0, 0, 0.5); font-weight: bold; letter-spacing: 1px;\">XGB || Forecasting Sticker Sales</p>"
   ]
  },
  {
   "cell_type": "code",
   "execution_count": 3,
   "metadata": {
    "_cell_guid": "b1076dfc-b9ad-4769-8c92-a6c4dae69d19",
    "_uuid": "8f2839f25d086af736a60e9eeb907d3b93b6e0e5",
    "execution": {
     "iopub.execute_input": "2025-01-20T04:40:12.107990Z",
     "iopub.status.busy": "2025-01-20T04:40:12.107252Z",
     "iopub.status.idle": "2025-01-20T04:40:21.593962Z",
     "shell.execute_reply": "2025-01-20T04:40:21.592363Z",
     "shell.execute_reply.started": "2025-01-20T04:40:12.107958Z"
    }
   },
   "outputs": [
    {
     "name": "stdout",
     "output_type": "stream",
     "text": [
      "CPU times: user 220 ms, sys: 70.9 ms, total: 291 ms\n",
      "Wall time: 9.48 s\n"
     ]
    }
   ],
   "source": [
    "%%time\n",
    "\n",
    "!pip install -qq lifelines\n",
    "!pip install -qq hillclimbers\n",
    "\n",
    "import numpy as np, pandas as pd\n",
    "import matplotlib.pyplot as plt\n",
    "from colorama import Fore\n",
    "from IPython.display import clear_output\n",
    "\n",
    "from sklearn.model_selection import *\n",
    "from xgboost import XGBRegressor, XGBClassifier\n",
    "from catboost import CatBoostRegressor, CatBoostClassifier\n",
    "import catboost as cb\n",
    "from lightgbm import LGBMRegressor\n",
    "import lightgbm as lgb\n",
    "from tqdm import tqdm\n",
    "import numpy as np"
   ]
  },
  {
   "cell_type": "markdown",
   "metadata": {},
   "source": [
    "# <p style=\"background-color:black; font-family:'Pacifico', cursive; color:yellow; font-size:140%; text-align:center; border: 2px solid black; border-radius:15px; padding: 10px; box-shadow: 5px 5px 20px rgba(0, 0, 0, 0.5); font-weight: bold; letter-spacing: 1px;\">Load Data</p>"
   ]
  },
  {
   "cell_type": "code",
   "execution_count": 4,
   "metadata": {
    "execution": {
     "iopub.execute_input": "2025-01-20T04:40:21.596466Z",
     "iopub.status.busy": "2025-01-20T04:40:21.595996Z",
     "iopub.status.idle": "2025-01-20T04:40:29.315702Z",
     "shell.execute_reply": "2025-01-20T04:40:29.314559Z",
     "shell.execute_reply.started": "2025-01-20T04:40:21.596416Z"
    }
   },
   "outputs": [
    {
     "name": "stdout",
     "output_type": "stream",
     "text": [
      "Cloning into 'AbdML'...\n",
      "remote: Enumerating objects: 292, done.\u001b[K\n",
      "remote: Counting objects: 100% (145/145), done.\u001b[K\n",
      "remote: Compressing objects: 100% (108/108), done.\u001b[K\n",
      "remote: Total 292 (delta 46), reused 0 (delta 0), pack-reused 147 (from 1)\u001b[K\n",
      "Receiving objects: 100% (292/292), 109.14 KiB | 5.20 MiB/s, done.\n",
      "Resolving deltas: 100% (93/93), done.\n",
      "\u001b[31m*** AbdBase ['V_1.3'] ***\n",
      "\n",
      "\u001b[31m *** Available Settings *** \n",
      "\n",
      "\u001b[31mAvailable Models: \u001b[36mLGBM, \u001b[36mCAT, \u001b[36mXGB, \u001b[36mVoting, \u001b[36mTABNET, \u001b[36mRidge, \u001b[36mLR\n",
      "\u001b[31mAvailable Metrics: \u001b[36mroc_auc, \u001b[36maccuracy, \u001b[36mf1, \u001b[36mprecision, \u001b[36mrecall, \u001b[36mrmse, \u001b[36mwmae, \u001b[36mrmsle, \u001b[36mmae, \u001b[36mr2, \u001b[36mmse, \u001b[36mmape, \u001b[36mcustom\n",
      "\u001b[31mAvailable Problem Types: \u001b[36mclassification, \u001b[36mregression\n",
      "\u001b[31mAvailable Fold Types: \u001b[36mSKF, \u001b[36mKF, \u001b[36mGKF, \u001b[36mGSKF, \u001b[36mRKF\n",
      "\u001b[31m\n",
      " *** Configuration *** \n",
      "\n",
      "\u001b[31mProblem Type Selected: \u001b[36mREGRESSION\n",
      "\u001b[31mMetric Selected: \u001b[36mMAPE\n",
      "\u001b[31mFold Type Selected: \u001b[36mGKF\n",
      "\u001b[31mCalculate Train Probabilities: \u001b[36mFalse\n",
      "\u001b[31mCalculate Test Probabilities: \u001b[36mFalse\n",
      "\u001b[31mEarly Stopping: \u001b[36mFalse\n",
      "\u001b[31mGPU: \u001b[36mFalse\n",
      "\u001b[31mEval_Metric Selected is: \u001b[36mNone\n",
      "\u001b[33m\n",
      "Adding Date Features\n",
      "\u001b[33m\n",
      "---> Applying Ordinal Encoder\n",
      "\n",
      "CPU times: user 2.01 s, sys: 429 ms, total: 2.44 s\n",
      "Wall time: 7.71 s\n"
     ]
    }
   ],
   "source": [
    "%%time\n",
    "\n",
    "SEED = 42\n",
    "n_splits = 5\n",
    "\n",
    "!git clone https://github.com/muhammadabdullah0303/AbdML\n",
    "\n",
    "import sys\n",
    "sys.path.append('/kaggle/working/repository')\n",
    "\n",
    "from AbdML.main import AbdBase\n",
    "\n",
    "train = pd.read_csv('/kaggle/input/playground-series-s5e1/train.csv')\n",
    "test = pd.read_csv('/kaggle/input/playground-series-s5e1/test.csv')\n",
    "sample = pd.read_csv('/kaggle/input/playground-series-s5e1/sample_submission.csv')\n",
    "train = train.dropna(subset=['num_sold'])\n",
    "\n",
    "train = train.drop('id', axis=1)\n",
    "test = test.drop('id', axis=1)\n",
    "\n",
    "cat_c = ['country', 'store', 'product','month_name','day_of_week']\n",
    "\n",
    "ohe_cols = {'cat_c': cat_c}\n",
    "\n",
    "\n",
    "base = AbdBase(train_data=train, test_data=test, target_column='num_sold',gpu=False,handle_date=True,\n",
    "                 problem_type=\"regression\", metric=\"mape\", seed=SEED,\n",
    "                 n_splits=n_splits,early_stop=False,num_classes=0,cat_features=None,ordinal_encoder=ohe_cols,\n",
    "                 fold_type='GKF')\n",
    "\n",
    "base.X_train = base.X_train.fillna(-1)\n",
    "base.X_test = base.X_test.fillna(-1)\n"
   ]
  },
  {
   "cell_type": "code",
   "execution_count": 5,
   "metadata": {
    "execution": {
     "iopub.execute_input": "2025-01-20T04:40:29.317806Z",
     "iopub.status.busy": "2025-01-20T04:40:29.317483Z",
     "iopub.status.idle": "2025-01-20T04:40:29.351708Z",
     "shell.execute_reply": "2025-01-20T04:40:29.350718Z",
     "shell.execute_reply.started": "2025-01-20T04:40:29.317781Z"
    }
   },
   "outputs": [
    {
     "name": "stdout",
     "output_type": "stream",
     "text": [
      "CPU times: user 211 µs, sys: 0 ns, total: 211 µs\n",
      "Wall time: 216 µs\n"
     ]
    },
    {
     "data": {
      "text/html": [
       "<div>\n",
       "<style scoped>\n",
       "    .dataframe tbody tr th:only-of-type {\n",
       "        vertical-align: middle;\n",
       "    }\n",
       "\n",
       "    .dataframe tbody tr th {\n",
       "        vertical-align: top;\n",
       "    }\n",
       "\n",
       "    .dataframe thead th {\n",
       "        text-align: right;\n",
       "    }\n",
       "</style>\n",
       "<table border=\"1\" class=\"dataframe\">\n",
       "  <thead>\n",
       "    <tr style=\"text-align: right;\">\n",
       "      <th></th>\n",
       "      <th>country</th>\n",
       "      <th>store</th>\n",
       "      <th>product</th>\n",
       "      <th>year</th>\n",
       "      <th>day</th>\n",
       "      <th>month</th>\n",
       "      <th>month_name</th>\n",
       "      <th>day_of_week</th>\n",
       "      <th>week</th>\n",
       "      <th>month_sin</th>\n",
       "      <th>month_cos</th>\n",
       "      <th>day_sin</th>\n",
       "      <th>day_cos</th>\n",
       "      <th>group</th>\n",
       "      <th>cos_year</th>\n",
       "      <th>sin_year</th>\n",
       "      <th>year_lag_1</th>\n",
       "      <th>year_diff</th>\n",
       "    </tr>\n",
       "  </thead>\n",
       "  <tbody>\n",
       "    <tr>\n",
       "      <th>1</th>\n",
       "      <td>0.0</td>\n",
       "      <td>0.0</td>\n",
       "      <td>1.0</td>\n",
       "      <td>2010</td>\n",
       "      <td>1</td>\n",
       "      <td>1</td>\n",
       "      <td>4.0</td>\n",
       "      <td>0.0</td>\n",
       "      <td>53</td>\n",
       "      <td>0.5</td>\n",
       "      <td>0.866025</td>\n",
       "      <td>0.201299</td>\n",
       "      <td>0.97953</td>\n",
       "      <td>-476</td>\n",
       "      <td>0.809017</td>\n",
       "      <td>0.587785</td>\n",
       "      <td>-1.0</td>\n",
       "      <td>-1.0</td>\n",
       "    </tr>\n",
       "    <tr>\n",
       "      <th>2</th>\n",
       "      <td>0.0</td>\n",
       "      <td>0.0</td>\n",
       "      <td>2.0</td>\n",
       "      <td>2010</td>\n",
       "      <td>1</td>\n",
       "      <td>1</td>\n",
       "      <td>4.0</td>\n",
       "      <td>0.0</td>\n",
       "      <td>53</td>\n",
       "      <td>0.5</td>\n",
       "      <td>0.866025</td>\n",
       "      <td>0.201299</td>\n",
       "      <td>0.97953</td>\n",
       "      <td>-476</td>\n",
       "      <td>0.809017</td>\n",
       "      <td>0.587785</td>\n",
       "      <td>2010.0</td>\n",
       "      <td>0.0</td>\n",
       "    </tr>\n",
       "    <tr>\n",
       "      <th>3</th>\n",
       "      <td>0.0</td>\n",
       "      <td>0.0</td>\n",
       "      <td>3.0</td>\n",
       "      <td>2010</td>\n",
       "      <td>1</td>\n",
       "      <td>1</td>\n",
       "      <td>4.0</td>\n",
       "      <td>0.0</td>\n",
       "      <td>53</td>\n",
       "      <td>0.5</td>\n",
       "      <td>0.866025</td>\n",
       "      <td>0.201299</td>\n",
       "      <td>0.97953</td>\n",
       "      <td>-476</td>\n",
       "      <td>0.809017</td>\n",
       "      <td>0.587785</td>\n",
       "      <td>2010.0</td>\n",
       "      <td>0.0</td>\n",
       "    </tr>\n",
       "    <tr>\n",
       "      <th>4</th>\n",
       "      <td>0.0</td>\n",
       "      <td>0.0</td>\n",
       "      <td>4.0</td>\n",
       "      <td>2010</td>\n",
       "      <td>1</td>\n",
       "      <td>1</td>\n",
       "      <td>4.0</td>\n",
       "      <td>0.0</td>\n",
       "      <td>53</td>\n",
       "      <td>0.5</td>\n",
       "      <td>0.866025</td>\n",
       "      <td>0.201299</td>\n",
       "      <td>0.97953</td>\n",
       "      <td>-476</td>\n",
       "      <td>0.809017</td>\n",
       "      <td>0.587785</td>\n",
       "      <td>2010.0</td>\n",
       "      <td>0.0</td>\n",
       "    </tr>\n",
       "    <tr>\n",
       "      <th>5</th>\n",
       "      <td>0.0</td>\n",
       "      <td>2.0</td>\n",
       "      <td>0.0</td>\n",
       "      <td>2010</td>\n",
       "      <td>1</td>\n",
       "      <td>1</td>\n",
       "      <td>4.0</td>\n",
       "      <td>0.0</td>\n",
       "      <td>53</td>\n",
       "      <td>0.5</td>\n",
       "      <td>0.866025</td>\n",
       "      <td>0.201299</td>\n",
       "      <td>0.97953</td>\n",
       "      <td>-476</td>\n",
       "      <td>0.809017</td>\n",
       "      <td>0.587785</td>\n",
       "      <td>2010.0</td>\n",
       "      <td>0.0</td>\n",
       "    </tr>\n",
       "  </tbody>\n",
       "</table>\n",
       "</div>"
      ],
      "text/plain": [
       "   country  store  product  year  day  month  month_name  day_of_week  week  \\\n",
       "1      0.0    0.0      1.0  2010    1      1         4.0          0.0    53   \n",
       "2      0.0    0.0      2.0  2010    1      1         4.0          0.0    53   \n",
       "3      0.0    0.0      3.0  2010    1      1         4.0          0.0    53   \n",
       "4      0.0    0.0      4.0  2010    1      1         4.0          0.0    53   \n",
       "5      0.0    2.0      0.0  2010    1      1         4.0          0.0    53   \n",
       "\n",
       "   month_sin  month_cos   day_sin  day_cos  group  cos_year  sin_year  \\\n",
       "1        0.5   0.866025  0.201299  0.97953   -476  0.809017  0.587785   \n",
       "2        0.5   0.866025  0.201299  0.97953   -476  0.809017  0.587785   \n",
       "3        0.5   0.866025  0.201299  0.97953   -476  0.809017  0.587785   \n",
       "4        0.5   0.866025  0.201299  0.97953   -476  0.809017  0.587785   \n",
       "5        0.5   0.866025  0.201299  0.97953   -476  0.809017  0.587785   \n",
       "\n",
       "   year_lag_1  year_diff  \n",
       "1        -1.0       -1.0  \n",
       "2      2010.0        0.0  \n",
       "3      2010.0        0.0  \n",
       "4      2010.0        0.0  \n",
       "5      2010.0        0.0  "
      ]
     },
     "execution_count": 5,
     "metadata": {},
     "output_type": "execute_result"
    }
   ],
   "source": [
    "%%time\n",
    "\n",
    "base.X_train.head()"
   ]
  },
  {
   "cell_type": "code",
   "execution_count": 6,
   "metadata": {
    "execution": {
     "iopub.execute_input": "2025-01-20T04:40:29.353590Z",
     "iopub.status.busy": "2025-01-20T04:40:29.353325Z",
     "iopub.status.idle": "2025-01-20T04:40:29.377816Z",
     "shell.execute_reply": "2025-01-20T04:40:29.376592Z",
     "shell.execute_reply.started": "2025-01-20T04:40:29.353568Z"
    }
   },
   "outputs": [
    {
     "name": "stdout",
     "output_type": "stream",
     "text": [
      "CPU times: user 162 µs, sys: 27 µs, total: 189 µs\n",
      "Wall time: 193 µs\n"
     ]
    },
    {
     "data": {
      "text/html": [
       "<div>\n",
       "<style scoped>\n",
       "    .dataframe tbody tr th:only-of-type {\n",
       "        vertical-align: middle;\n",
       "    }\n",
       "\n",
       "    .dataframe tbody tr th {\n",
       "        vertical-align: top;\n",
       "    }\n",
       "\n",
       "    .dataframe thead th {\n",
       "        text-align: right;\n",
       "    }\n",
       "</style>\n",
       "<table border=\"1\" class=\"dataframe\">\n",
       "  <thead>\n",
       "    <tr style=\"text-align: right;\">\n",
       "      <th></th>\n",
       "      <th>country</th>\n",
       "      <th>store</th>\n",
       "      <th>product</th>\n",
       "      <th>year</th>\n",
       "      <th>day</th>\n",
       "      <th>month</th>\n",
       "      <th>month_name</th>\n",
       "      <th>day_of_week</th>\n",
       "      <th>week</th>\n",
       "      <th>month_sin</th>\n",
       "      <th>month_cos</th>\n",
       "      <th>day_sin</th>\n",
       "      <th>day_cos</th>\n",
       "      <th>group</th>\n",
       "      <th>cos_year</th>\n",
       "      <th>sin_year</th>\n",
       "      <th>year_lag_1</th>\n",
       "      <th>year_diff</th>\n",
       "    </tr>\n",
       "  </thead>\n",
       "  <tbody>\n",
       "    <tr>\n",
       "      <th>0</th>\n",
       "      <td>0.0</td>\n",
       "      <td>0.0</td>\n",
       "      <td>0.0</td>\n",
       "      <td>2017</td>\n",
       "      <td>1</td>\n",
       "      <td>1</td>\n",
       "      <td>4.0</td>\n",
       "      <td>3.0</td>\n",
       "      <td>52</td>\n",
       "      <td>0.5</td>\n",
       "      <td>0.866025</td>\n",
       "      <td>0.201299</td>\n",
       "      <td>0.97953</td>\n",
       "      <td>-140</td>\n",
       "      <td>0.481754</td>\n",
       "      <td>0.876307</td>\n",
       "      <td>-1.0</td>\n",
       "      <td>-1.0</td>\n",
       "    </tr>\n",
       "    <tr>\n",
       "      <th>1</th>\n",
       "      <td>0.0</td>\n",
       "      <td>0.0</td>\n",
       "      <td>1.0</td>\n",
       "      <td>2017</td>\n",
       "      <td>1</td>\n",
       "      <td>1</td>\n",
       "      <td>4.0</td>\n",
       "      <td>3.0</td>\n",
       "      <td>52</td>\n",
       "      <td>0.5</td>\n",
       "      <td>0.866025</td>\n",
       "      <td>0.201299</td>\n",
       "      <td>0.97953</td>\n",
       "      <td>-140</td>\n",
       "      <td>0.481754</td>\n",
       "      <td>0.876307</td>\n",
       "      <td>2017.0</td>\n",
       "      <td>0.0</td>\n",
       "    </tr>\n",
       "    <tr>\n",
       "      <th>2</th>\n",
       "      <td>0.0</td>\n",
       "      <td>0.0</td>\n",
       "      <td>2.0</td>\n",
       "      <td>2017</td>\n",
       "      <td>1</td>\n",
       "      <td>1</td>\n",
       "      <td>4.0</td>\n",
       "      <td>3.0</td>\n",
       "      <td>52</td>\n",
       "      <td>0.5</td>\n",
       "      <td>0.866025</td>\n",
       "      <td>0.201299</td>\n",
       "      <td>0.97953</td>\n",
       "      <td>-140</td>\n",
       "      <td>0.481754</td>\n",
       "      <td>0.876307</td>\n",
       "      <td>2017.0</td>\n",
       "      <td>0.0</td>\n",
       "    </tr>\n",
       "    <tr>\n",
       "      <th>3</th>\n",
       "      <td>0.0</td>\n",
       "      <td>0.0</td>\n",
       "      <td>3.0</td>\n",
       "      <td>2017</td>\n",
       "      <td>1</td>\n",
       "      <td>1</td>\n",
       "      <td>4.0</td>\n",
       "      <td>3.0</td>\n",
       "      <td>52</td>\n",
       "      <td>0.5</td>\n",
       "      <td>0.866025</td>\n",
       "      <td>0.201299</td>\n",
       "      <td>0.97953</td>\n",
       "      <td>-140</td>\n",
       "      <td>0.481754</td>\n",
       "      <td>0.876307</td>\n",
       "      <td>2017.0</td>\n",
       "      <td>0.0</td>\n",
       "    </tr>\n",
       "    <tr>\n",
       "      <th>4</th>\n",
       "      <td>0.0</td>\n",
       "      <td>0.0</td>\n",
       "      <td>4.0</td>\n",
       "      <td>2017</td>\n",
       "      <td>1</td>\n",
       "      <td>1</td>\n",
       "      <td>4.0</td>\n",
       "      <td>3.0</td>\n",
       "      <td>52</td>\n",
       "      <td>0.5</td>\n",
       "      <td>0.866025</td>\n",
       "      <td>0.201299</td>\n",
       "      <td>0.97953</td>\n",
       "      <td>-140</td>\n",
       "      <td>0.481754</td>\n",
       "      <td>0.876307</td>\n",
       "      <td>2017.0</td>\n",
       "      <td>0.0</td>\n",
       "    </tr>\n",
       "  </tbody>\n",
       "</table>\n",
       "</div>"
      ],
      "text/plain": [
       "   country  store  product  year  day  month  month_name  day_of_week  week  \\\n",
       "0      0.0    0.0      0.0  2017    1      1         4.0          3.0    52   \n",
       "1      0.0    0.0      1.0  2017    1      1         4.0          3.0    52   \n",
       "2      0.0    0.0      2.0  2017    1      1         4.0          3.0    52   \n",
       "3      0.0    0.0      3.0  2017    1      1         4.0          3.0    52   \n",
       "4      0.0    0.0      4.0  2017    1      1         4.0          3.0    52   \n",
       "\n",
       "   month_sin  month_cos   day_sin  day_cos  group  cos_year  sin_year  \\\n",
       "0        0.5   0.866025  0.201299  0.97953   -140  0.481754  0.876307   \n",
       "1        0.5   0.866025  0.201299  0.97953   -140  0.481754  0.876307   \n",
       "2        0.5   0.866025  0.201299  0.97953   -140  0.481754  0.876307   \n",
       "3        0.5   0.866025  0.201299  0.97953   -140  0.481754  0.876307   \n",
       "4        0.5   0.866025  0.201299  0.97953   -140  0.481754  0.876307   \n",
       "\n",
       "   year_lag_1  year_diff  \n",
       "0        -1.0       -1.0  \n",
       "1      2017.0        0.0  \n",
       "2      2017.0        0.0  \n",
       "3      2017.0        0.0  \n",
       "4      2017.0        0.0  "
      ]
     },
     "execution_count": 6,
     "metadata": {},
     "output_type": "execute_result"
    }
   ],
   "source": [
    "%%time\n",
    "\n",
    "base.X_test.head()"
   ]
  },
  {
   "cell_type": "markdown",
   "metadata": {},
   "source": [
    "# <p style=\"background-color:black; font-family:'Pacifico', cursive; color:yellow; font-size:140%; text-align:center; border: 2px solid black; border-radius:15px; padding: 10px; box-shadow: 5px 5px 20px rgba(0, 0, 0, 0.5); font-weight: bold; letter-spacing: 1px;\">Base XGB</p>"
   ]
  },
  {
   "cell_type": "code",
   "execution_count": 7,
   "metadata": {
    "execution": {
     "iopub.execute_input": "2025-01-20T04:40:29.379303Z",
     "iopub.status.busy": "2025-01-20T04:40:29.378974Z",
     "iopub.status.idle": "2025-01-20T04:43:44.949795Z",
     "shell.execute_reply": "2025-01-20T04:43:44.948583Z",
     "shell.execute_reply.started": "2025-01-20T04:40:29.379274Z"
    }
   },
   "outputs": [
    {
     "name": "stderr",
     "output_type": "stream",
     "text": [
      "Training Folds: 100%|██████████| 5/5 [03:15<00:00, 39.11s/it]"
     ]
    },
    {
     "name": "stdout",
     "output_type": "stream",
     "text": [
      "Overall Train MAPE: 0.0457\n",
      "Overall OOF MAPE: 0.0859 \n",
      "CPU times: user 12min 37s, sys: 2.08 s, total: 12min 39s\n",
      "Wall time: 3min 15s\n"
     ]
    },
    {
     "name": "stderr",
     "output_type": "stream",
     "text": [
      "\n"
     ]
    }
   ],
   "source": [
    "%%time\n",
    "params =  {'n_estimators': 2203, 'max_depth': 5, 'colsample_bytree': 0.5359752614980476,\n",
    "            'subsample': 0.7271274739921461, 'learning_rate': 0.011247656752870117, 'min_child_weight': 74}\n",
    "\n",
    "XGBresult = base.Train_ML(params,'XGB', y_log=True, g_col='year')"
   ]
  },
  {
   "cell_type": "code",
   "execution_count": 8,
   "metadata": {
    "execution": {
     "iopub.execute_input": "2025-01-20T04:43:44.951293Z",
     "iopub.status.busy": "2025-01-20T04:43:44.950867Z",
     "iopub.status.idle": "2025-01-20T04:46:59.657337Z",
     "shell.execute_reply": "2025-01-20T04:46:59.655994Z",
     "shell.execute_reply.started": "2025-01-20T04:43:44.951251Z"
    }
   },
   "outputs": [
    {
     "name": "stderr",
     "output_type": "stream",
     "text": [
      "Training Folds: 100%|██████████| 5/5 [03:14<00:00, 38.94s/it]"
     ]
    },
    {
     "name": "stdout",
     "output_type": "stream",
     "text": [
      "Overall Train MAPE: 0.5495\n",
      "Overall OOF MAPE: 0.5801 \n",
      "CPU times: user 12min 28s, sys: 1.95 s, total: 12min 30s\n",
      "Wall time: 3min 14s\n"
     ]
    },
    {
     "name": "stderr",
     "output_type": "stream",
     "text": [
      "\n"
     ]
    }
   ],
   "source": [
    "%%time\n",
    "params =  {'n_estimators': 2203, 'max_depth': 5, 'colsample_bytree': 0.5359752614980476,\n",
    "            'subsample': 0.7271274739921461, 'learning_rate': 0.011247656752870117, 'min_child_weight': 74}\n",
    "\n",
    "XGBresult = base.Train_ML(params,'XGB', y_log=False, g_col='year')"
   ]
  },
  {
   "cell_type": "markdown",
   "metadata": {},
   "source": [
    "# <p style=\"background-color:black; font-family:'Pacifico', cursive; color:yellow; font-size:140%; text-align:center; border: 2px solid black; border-radius:15px; padding: 10px; box-shadow: 5px 5px 20px rgba(0, 0, 0, 0.5); font-weight: bold; letter-spacing: 1px;\">Submission</p>"
   ]
  },
  {
   "cell_type": "code",
   "execution_count": 9,
   "metadata": {
    "execution": {
     "iopub.execute_input": "2025-01-20T04:46:59.659010Z",
     "iopub.status.busy": "2025-01-20T04:46:59.658588Z",
     "iopub.status.idle": "2025-01-20T04:46:59.878319Z",
     "shell.execute_reply": "2025-01-20T04:46:59.877225Z",
     "shell.execute_reply.started": "2025-01-20T04:46:59.658976Z"
    }
   },
   "outputs": [
    {
     "name": "stdout",
     "output_type": "stream",
     "text": [
      "Sub shape: (98550, 2)\n",
      "CPU times: user 199 ms, sys: 8.99 ms, total: 208 ms\n",
      "Wall time: 208 ms\n"
     ]
    },
    {
     "data": {
      "text/html": [
       "<div>\n",
       "<style scoped>\n",
       "    .dataframe tbody tr th:only-of-type {\n",
       "        vertical-align: middle;\n",
       "    }\n",
       "\n",
       "    .dataframe tbody tr th {\n",
       "        vertical-align: top;\n",
       "    }\n",
       "\n",
       "    .dataframe thead th {\n",
       "        text-align: right;\n",
       "    }\n",
       "</style>\n",
       "<table border=\"1\" class=\"dataframe\">\n",
       "  <thead>\n",
       "    <tr style=\"text-align: right;\">\n",
       "      <th></th>\n",
       "      <th>id</th>\n",
       "      <th>num_sold</th>\n",
       "    </tr>\n",
       "  </thead>\n",
       "  <tbody>\n",
       "    <tr>\n",
       "      <th>0</th>\n",
       "      <td>230130</td>\n",
       "      <td>91.450479</td>\n",
       "    </tr>\n",
       "    <tr>\n",
       "      <th>1</th>\n",
       "      <td>230131</td>\n",
       "      <td>951.577148</td>\n",
       "    </tr>\n",
       "    <tr>\n",
       "      <th>2</th>\n",
       "      <td>230132</td>\n",
       "      <td>787.048340</td>\n",
       "    </tr>\n",
       "    <tr>\n",
       "      <th>3</th>\n",
       "      <td>230133</td>\n",
       "      <td>385.042474</td>\n",
       "    </tr>\n",
       "    <tr>\n",
       "      <th>4</th>\n",
       "      <td>230134</td>\n",
       "      <td>474.187579</td>\n",
       "    </tr>\n",
       "  </tbody>\n",
       "</table>\n",
       "</div>"
      ],
      "text/plain": [
       "       id    num_sold\n",
       "0  230130   91.450479\n",
       "1  230131  951.577148\n",
       "2  230132  787.048340\n",
       "3  230133  385.042474\n",
       "4  230134  474.187579"
      ]
     },
     "execution_count": 9,
     "metadata": {},
     "output_type": "execute_result"
    }
   ],
   "source": [
    "%%time\n",
    "\n",
    "sample[\"num_sold\"] = XGBresult[1]\n",
    "sample.to_csv(\"submission.csv\", index=False)\n",
    "print(\"Sub shape:\", sample.shape)\n",
    "sample.head()"
   ]
  }
 ],
 "metadata": {
  "kaggle": {
   "accelerator": "none",
   "dataSources": [
    {
     "databundleVersionId": 10652996,
     "sourceId": 85723,
     "sourceType": "competition"
    },
    {
     "sourceId": 218361878,
     "sourceType": "kernelVersion"
    }
   ],
   "dockerImageVersionId": 30839,
   "isGpuEnabled": false,
   "isInternetEnabled": true,
   "language": "python",
   "sourceType": "notebook"
  },
  "kernelspec": {
   "display_name": "Python 3 (ipykernel)",
   "language": "python",
   "name": "python3"
  },
  "language_info": {
   "codemirror_mode": {
    "name": "ipython",
    "version": 3
   },
   "file_extension": ".py",
   "mimetype": "text/x-python",
   "name": "python",
   "nbconvert_exporter": "python",
   "pygments_lexer": "ipython3",
   "version": "3.8.10"
  }
 },
 "nbformat": 4,
 "nbformat_minor": 4
}
